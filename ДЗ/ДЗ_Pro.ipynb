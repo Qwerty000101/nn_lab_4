{
  "cells": [
    {
      "cell_type": "markdown",
      "metadata": {
        "id": "3hahJ-ONkfmR"
      },
      "source": [
        "Дорогой студент!\n",
        "\n",
        "В данном домашнем задании предоставляется возможность поработать с задачей по распознаванию позитивных и негативных отзывы людей по автомобилю Tesla. База для обучения содержит два текстовых файла с рядом строчных отзывов с мнением людей об автомобиле Tesla, соответственно негативного и позитивного содержания. Ссылка на скачивание базы уже включена в ноутбук задания.\n",
        "\n",
        "\n",
        "Необходимо выполнить следующие действия:\n",
        "\n",
        "  1. Загрузите саму базу по ссылке и подговьте файлы базы для обработки.\n",
        "  2. Создайте обучающую и проверочную выборки, обратив особое внимание на балансировку базы: количество примеров каждого класса должно быть примерно одного порядка.\n",
        "  3. Подготовьте выборки для обучения и обучите сеть. Добейтесь результата точности сети в 85-90% на проверочной выборке.\n",
        "   \n"
      ]
    },
    {
      "cell_type": "markdown",
      "metadata": {
        "id": "PUN4KxIPuUmM"
      },
      "source": [
        "**Импорт библиотек, загрузка базы и подготовка её к предобработке.**"
      ]
    },
    {
      "cell_type": "code",
      "execution_count": null,
      "metadata": {
        "id": "xOYjMYA5bQD5"
      },
      "outputs": [],
      "source": [
        "# Работа с массивами данных\n",
        "# Для работы с файлами в Colaboratory\n",
        "import os\n",
        "\n",
        "# Загрузка датасетов из облака google\n",
        "import gdown\n",
        "# Отрисовка графиков\n",
        "# Отрисовка графиков\n",
        "import matplotlib.pyplot as plt\n",
        "import numpy as np\n",
        "import tensorflow as tf\n",
        "# Функции-утилиты для работы с категориальными данными\n",
        "from tensorflow.keras import utils\n",
        "# Основные слои\n",
        "# Класс для конструирования последовательной модели нейронной сети\n",
        "from tensorflow.keras.models import Sequential\n",
        "from tensorflow.keras.optimizers import Adam\n",
        "# Заполнение последовательностей до определенной длины\n",
        "from tensorflow.keras.preprocessing.sequence import pad_sequences\n",
        "# Токенизатор для преобразование текстов в последовательности\n",
        "from tensorflow.keras.preprocessing.text import Tokenizer\n",
        "\n",
        "%matplotlib inline\n"
      ]
    },
    {
      "cell_type": "markdown",
      "metadata": {},
      "source": [
        "Функция download_and_extract скачивает архив с данными по указанной URL-ссылке, \n",
        "распаковывает его в указанную директорию и удаляет архив после распаковки."
      ]
    },
    {
      "cell_type": "code",
      "execution_count": null,
      "metadata": {},
      "outputs": [],
      "source": [
        "def download_and_extract(url, output_dir):\n",
        "    \"\"\"Скачивает и распаковывает архив с датасетом\"\"\"\n",
        "    # Создаем папку для данных, если ее нет\n",
        "    if not os.path.exists(output_dir):\n",
        "        os.makedirs(output_dir)\n",
        "    \n",
        "    # Путь для сохранения архива\n",
        "    zip_path = os.path.join(output_dir, 'dataset.zip')\n",
        "    \n",
        "    # Скачиваем архив\n",
        "    print(\"Скачивание архива...\")\n",
        "    gdown.download(url, zip_path, quiet=False)\n",
        "    \n",
        "    # Распаковываем архив\n",
        "    print(\"Распаковка архива...\")\n",
        "    with zipfile.ZipFile(zip_path, 'r') as zip_ref:\n",
        "        zip_ref.extractall(output_dir)\n",
        "    \n",
        "    # Удаляем архив\n",
        "    os.remove(zip_path)\n",
        "    print(\"Датасет готов к использованию\")"
      ]
    },
    {
      "cell_type": "code",
      "execution_count": null,
      "metadata": {},
      "outputs": [],
      "source": [
        "# Загрузка и распаковка архива\n",
        "download_and_extract('https://storage.yandexcloud.net/aiueducation/Content/base/l7/tesla.zip', 'tesla')"
      ]
    },
    {
      "cell_type": "markdown",
      "metadata": {
        "id": "o7VsrwF92JDM"
      },
      "source": [
        "**Загрузка текста из файлов, преобразование в одну строку.**"
      ]
    },
    {
      "cell_type": "markdown",
      "metadata": {},
      "source": [
        "Функция read_text читает содержимое текстового файла, заменя переносы строк на пробелы,\n",
        "и возвращает полученный текст."
      ]
    },
    {
      "cell_type": "code",
      "execution_count": 4,
      "metadata": {
        "id": "tHELyvOvzRBI"
      },
      "outputs": [],
      "source": [
        "# Объявляем функции для чтения файла. На вход отправляем путь к файлу\n",
        "def read_text(file_name):\n",
        "\n",
        "  # Задаем открытие нужного файла в режиме чтения\n",
        "  read_file = open(file_name, 'r')\n",
        "\n",
        "  # Читаем текст\n",
        "  text = read_file.read()\n",
        "\n",
        "  # Переносы строки переводим в пробелы\n",
        "  text = text.replace(\"\\n\", \" \")\n",
        "\n",
        "  # Возвращаем текст файла\n",
        "  return text\n",
        "\n",
        "# Объявляем интересующие нас классы\n",
        "class_names = [\"Негативный отзыв\", \"Позитивный отзыв\"]\n",
        "\n",
        "# Считаем количество классов\n",
        "num_classes = len(class_names)"
      ]
    },
    {
      "cell_type": "markdown",
      "metadata": {
        "id": "ih6e6VfO2o_t"
      },
      "source": [
        "**Тексты в один список.**"
      ]
    },
    {
      "cell_type": "markdown",
      "metadata": {},
      "source": [
        "Здесь мы загружаем все текстовые файлы из папки 'tesla' в список texts_list."
      ]
    },
    {
      "cell_type": "code",
      "execution_count": null,
      "metadata": {
        "colab": {
          "base_uri": "https://localhost:8080/"
        },
        "id": "9w4V4ztFznbG",
        "outputId": "2cd9713b-4b22-467a-a718-7ea40ac66984"
      },
      "outputs": [
        {
          "name": "stdout",
          "output_type": "stream",
          "text": [
            "Негативный отзыв.txt добавлен в обучающую выборку\n",
            "Позитивный отзыв.txt добавлен в обучающую выборку\n"
          ]
        }
      ],
      "source": [
        "# Создаём список под тексты для обучающей выборки\n",
        "texts_list = []\n",
        "\n",
        "# Циклом проводим итерацию по текстовым файлам в папке отзывов\n",
        "for j in os.listdir('tesla/'):\n",
        "\n",
        "  # Добавляем каждый файл в общий список для выборки\n",
        "        texts_list.append(read_text('tesla/' + j))\n",
        "\n",
        "        # Выводим на экран сообщение о добавлении файла\n",
        "        print(j, 'добавлен в обучающую выборку')"
      ]
    },
    {
      "cell_type": "markdown",
      "metadata": {},
      "source": [
        "Здесь мы анализируем длину каждого текста в символах."
      ]
    },
    {
      "cell_type": "code",
      "execution_count": 7,
      "metadata": {
        "colab": {
          "base_uri": "https://localhost:8080/"
        },
        "id": "rvvdNpt40jRY",
        "outputId": "3056720d-ac41-4483-e597-1656f2ecee2a"
      },
      "outputs": [
        {
          "name": "stdout",
          "output_type": "stream",
          "text": [
            "Размеры текстов по порядку (в токенах):\n",
            "Текст №1: 134535\n",
            "Текст №2: 213381\n"
          ]
        }
      ],
      "source": [
        "# Узнаем объём каждого текста в словах и символах\n",
        "texts_len = [len(text) for text in texts_list]\n",
        "\n",
        "# Устанавливаем \"счётчик\" номера текста\n",
        "t_num = 0\n",
        "\n",
        "# Выводим на экран  информационное сообщение\n",
        "print(f'Размеры текстов по порядку (в токенах):')\n",
        "\n",
        "# Циклом проводим итерацию по списку с объёмами текстов\n",
        "for text_len in texts_len:\n",
        "\n",
        "  # Запускаем \"счётчик\" номера текста\n",
        "  t_num += 1\n",
        "\n",
        "  # Выводим на экран сообщение о номере и объёме текста\n",
        "  print(f'Текст №{t_num}: {text_len}')"
      ]
    },
    {
      "cell_type": "markdown",
      "metadata": {
        "id": "lpAQS_wB24TT"
      },
      "source": [
        "Далее рассчитаем, сколько символов составит 80% объёма каждого текста, чтобы по полученному индексу отделить эти 80% на обучающую и оставшиеся 20% на проверочную выборку. Эти значения необходимы для подготовки деления на выборки слайсингом по индексу."
      ]
    },
    {
      "cell_type": "code",
      "execution_count": 8,
      "metadata": {
        "colab": {
          "base_uri": "https://localhost:8080/"
        },
        "id": "0ur3bkOd3UTQ",
        "outputId": "a79153cb-1c63-4ed7-a288-6f8a17026547"
      },
      "outputs": [
        {
          "name": "stdout",
          "output_type": "stream",
          "text": [
            "Доля 80% от текста №1: 107628 символов\n",
            "Доля 80% от текста №2: 170705 символов\n"
          ]
        }
      ],
      "source": [
        "# Создаём список с вложенным циклом по длинам текстов, где i - 100% текста, i/5 - 20% текста\n",
        "train_len_shares = [(i - round(i/5)) for i in texts_len]\n",
        "\n",
        "# Устанавливаем \"счётчик\" номера текста\n",
        "t_num = 0\n",
        "\n",
        "# Циклом проводим итерацию по списку с объёмами текстов равными 80% от исходных\n",
        "for train_len_share in train_len_shares:\n",
        "\n",
        "  # Запускаем \"счётчик\" номера текста\n",
        "  t_num += 1\n",
        "\n",
        "  # Выводим на экран сообщение о номере и объёме текста в 80% от исходного\n",
        "  print(f'Доля 80% от текста №{t_num}: {train_len_share} символов')"
      ]
    },
    {
      "cell_type": "markdown",
      "metadata": {
        "id": "rVHFObMz5RsH"
      },
      "source": [
        "Импортируем функцию **chain()** для добавления текстов в каждую выборку.\n",
        "\n",
        "---\n",
        " Дополнительная информация: ([База знаний УИИ  - **\"Методы работы со списками: функция chain( )**\"](https://colab.research.google.com/drive/1KJKg_WYD8Vq63cciOMBEEAhFpyPv0A0V?usp=sharing/))\n",
        "\n",
        "---\n",
        "\n",
        "Производём нарезку (метод слайсинга) по полученному ранее индексу для формирования текстов отдельно для обучающей(80%) и проверочной(20%) выборок:"
      ]
    },
    {
      "cell_type": "code",
      "execution_count": null,
      "metadata": {},
      "outputs": [],
      "source": [
        "text_train = []\n",
        "text_validate = []\n",
        "# Ваше решение\n",
        "for i, text in enumerate(texts_list):\n",
        "    text_train.append(text[:train_len_shares[i]])\n",
        "    text_validate.append(text[train_len_shares[i]:])\n",
        "\n",
        "\n",
        "VOCAB_SIZE = 20000\n",
        "WIN_SIZE = 1000\n",
        "WIN_HOPE = 150"
      ]
    },
    {
      "cell_type": "markdown",
      "metadata": {},
      "source": [
        "1. split_sequence - разбивает последовательность на отрезки скользящим окном\n",
        "2. vectorize_sequence - преобразует последовательности в векторы и создает метки классов"
      ]
    },
    {
      "cell_type": "code",
      "execution_count": 10,
      "metadata": {},
      "outputs": [],
      "source": [
        "# Функция разбиения последовательности на отрезки скользящим окном\n",
        "# На входе - последовательность индексов, размер окна, шаг окна\n",
        "def split_sequence(sequence, win_size, hop):\n",
        "    # Последовательность разбивается на части до последнего полного окна\n",
        "    return [\n",
        "        sequence[i : i + win_size] for i in range(0, len(sequence) - win_size + 1, hop)\n",
        "    ]\n",
        "\n",
        "\n",
        "# Функция формирования выборок из последовательностей индексов\n",
        "# формирует выборку отрезков и соответствующих им меток классов в виде one hot encoding\n",
        "def vectorize_sequence(seq_list, win_size, hop):\n",
        "    # В списке последовательности следуют в порядке их классов\n",
        "    # Всего последовательностей в списке ровно столько, сколько классов\n",
        "    class_count = len(seq_list)\n",
        "\n",
        "    # Списки для исходных векторов и категориальных меток класса\n",
        "    x, y = [], []\n",
        "\n",
        "    # Для каждого класса:\n",
        "    for cls in range(class_count):\n",
        "        # Разбиение последовательности класса cls на отрезки\n",
        "        vectors = split_sequence(seq_list[cls], win_size, hop)\n",
        "        # Добавление отрезков в выборку\n",
        "        x += vectors\n",
        "        # Для всех отрезков класса cls добавление меток класса в виде OHE\n",
        "        y += [utils.to_categorical(cls, class_count)] * len(vectors)\n",
        "\n",
        "    # Возврат результатов как numpy-массивов\n",
        "    return np.array(x), np.array(y)"
      ]
    },
    {
      "cell_type": "markdown",
      "metadata": {},
      "source": [
        "1. Создаем токенизатор и обучаем его на всех текстах\n",
        "2. Преобразуем тексты в последовательности индексов\n",
        "3. Создаем обучающую и тестовую выборки\n",
        "4. Преобразуем последовательности в матрицы и анализируем баланс классов"
      ]
    },
    {
      "cell_type": "code",
      "execution_count": 11,
      "metadata": {},
      "outputs": [
        {
          "name": "stdout",
          "output_type": "stream",
          "text": [
            "Обучающая выборка:\n",
            "Класс 0: 107 окон\n",
            "Класс 1: 166 окон\n",
            "\n",
            "Тестовая выборка:\n",
            "Класс 0: 23 окон\n",
            "Класс 1: 38 окон\n"
          ]
        }
      ],
      "source": [
        "tokenizer = Tokenizer(\n",
        "    num_words=VOCAB_SIZE,\n",
        "    filters='!\"#$%&()*+,-–—./…:;<=>?@[\\\\]^_`{|}~«»\\t\\n\\xa0\\ufeff',\n",
        "    lower=True,\n",
        "    split=\" \",\n",
        "    oov_token=\"неизвестное_слово\",\n",
        "    char_level=False,\n",
        ")\n",
        "tokenizer.fit_on_texts(texts_list)\n",
        "seq_train = tokenizer.texts_to_sequences(text_train)\n",
        "seq_test = tokenizer.texts_to_sequences(text_validate)\n",
        "# Формирование обучающей выборки\n",
        "x_train, y_train = vectorize_sequence(seq_train, WIN_SIZE, WIN_HOPE)\n",
        "# Формирование тестовой выборки\n",
        "x_test, y_test = vectorize_sequence(seq_test, WIN_SIZE, WIN_HOPE)\n",
        "x_train = tokenizer.sequences_to_matrix(x_train.tolist()).astype(\"float16\")\n",
        "x_test = tokenizer.sequences_to_matrix(x_test.tolist()).astype(\"float16\")\n",
        "# Преобразуем one-hot обратно в метки классов\n",
        "train_labels = np.argmax(y_train, axis=1)\n",
        "test_labels = np.argmax(y_test, axis=1)\n",
        "\n",
        "# Подсчёт с помощью bincount\n",
        "train_counts = np.bincount(train_labels)\n",
        "test_counts = np.bincount(test_labels)\n",
        "\n",
        "# Вывод результатов\n",
        "print(\"Обучающая выборка:\")\n",
        "for cls, count in enumerate(train_counts):\n",
        "    print(f\"Класс {cls}: {count} окон\")\n",
        "\n",
        "print(\"\\nТестовая выборка:\")\n",
        "for cls, count in enumerate(test_counts):\n",
        "    print(f\"Класс {cls}: {count} окон\")"
      ]
    },
    {
      "cell_type": "markdown",
      "metadata": {},
      "source": [
        "1. Создаем последовательную модель с несколькими полносвязными слоями\n",
        "2. Добавляем Dropout для борьбы с переобучением\n",
        "3. Компилируем модель с оптимизатором Adam\n",
        "4. Обучаем модель на GPU"
      ]
    },
    {
      "cell_type": "code",
      "execution_count": null,
      "metadata": {},
      "outputs": [
        {
          "data": {
            "text/html": [
              "<pre style=\"white-space:pre;overflow-x:auto;line-height:normal;font-family:Menlo,'DejaVu Sans Mono',consolas,'Courier New',monospace\"><span style=\"font-weight: bold\">Model: \"sequential_1\"</span>\n",
              "</pre>\n"
            ],
            "text/plain": [
              "\u001b[1mModel: \"sequential_1\"\u001b[0m\n"
            ]
          },
          "metadata": {},
          "output_type": "display_data"
        },
        {
          "data": {
            "text/html": [
              "<pre style=\"white-space:pre;overflow-x:auto;line-height:normal;font-family:Menlo,'DejaVu Sans Mono',consolas,'Courier New',monospace\">┏━━━━━━━━━━━━━━━━━━━━━━━━━━━━━━━━━┳━━━━━━━━━━━━━━━━━━━━━━━━┳━━━━━━━━━━━━━━━┓\n",
              "┃<span style=\"font-weight: bold\"> Layer (type)                    </span>┃<span style=\"font-weight: bold\"> Output Shape           </span>┃<span style=\"font-weight: bold\">       Param # </span>┃\n",
              "┡━━━━━━━━━━━━━━━━━━━━━━━━━━━━━━━━━╇━━━━━━━━━━━━━━━━━━━━━━━━╇━━━━━━━━━━━━━━━┩\n",
              "│ dense_3 (<span style=\"color: #0087ff; text-decoration-color: #0087ff\">Dense</span>)                 │ (<span style=\"color: #00d7ff; text-decoration-color: #00d7ff\">None</span>, <span style=\"color: #00af00; text-decoration-color: #00af00\">200</span>)            │     <span style=\"color: #00af00; text-decoration-color: #00af00\">4,000,200</span> │\n",
              "├─────────────────────────────────┼────────────────────────┼───────────────┤\n",
              "│ dropout_2 (<span style=\"color: #0087ff; text-decoration-color: #0087ff\">Dropout</span>)             │ (<span style=\"color: #00d7ff; text-decoration-color: #00d7ff\">None</span>, <span style=\"color: #00af00; text-decoration-color: #00af00\">200</span>)            │             <span style=\"color: #00af00; text-decoration-color: #00af00\">0</span> │\n",
              "├─────────────────────────────────┼────────────────────────┼───────────────┤\n",
              "│ dense_4 (<span style=\"color: #0087ff; text-decoration-color: #0087ff\">Dense</span>)                 │ (<span style=\"color: #00d7ff; text-decoration-color: #00d7ff\">None</span>, <span style=\"color: #00af00; text-decoration-color: #00af00\">100</span>)            │        <span style=\"color: #00af00; text-decoration-color: #00af00\">20,100</span> │\n",
              "├─────────────────────────────────┼────────────────────────┼───────────────┤\n",
              "│ dropout_3 (<span style=\"color: #0087ff; text-decoration-color: #0087ff\">Dropout</span>)             │ (<span style=\"color: #00d7ff; text-decoration-color: #00d7ff\">None</span>, <span style=\"color: #00af00; text-decoration-color: #00af00\">100</span>)            │             <span style=\"color: #00af00; text-decoration-color: #00af00\">0</span> │\n",
              "├─────────────────────────────────┼────────────────────────┼───────────────┤\n",
              "│ dense_5 (<span style=\"color: #0087ff; text-decoration-color: #0087ff\">Dense</span>)                 │ (<span style=\"color: #00d7ff; text-decoration-color: #00d7ff\">None</span>, <span style=\"color: #00af00; text-decoration-color: #00af00\">2</span>)              │           <span style=\"color: #00af00; text-decoration-color: #00af00\">202</span> │\n",
              "└─────────────────────────────────┴────────────────────────┴───────────────┘\n",
              "</pre>\n"
            ],
            "text/plain": [
              "┏━━━━━━━━━━━━━━━━━━━━━━━━━━━━━━━━━┳━━━━━━━━━━━━━━━━━━━━━━━━┳━━━━━━━━━━━━━━━┓\n",
              "┃\u001b[1m \u001b[0m\u001b[1mLayer (type)                   \u001b[0m\u001b[1m \u001b[0m┃\u001b[1m \u001b[0m\u001b[1mOutput Shape          \u001b[0m\u001b[1m \u001b[0m┃\u001b[1m \u001b[0m\u001b[1m      Param #\u001b[0m\u001b[1m \u001b[0m┃\n",
              "┡━━━━━━━━━━━━━━━━━━━━━━━━━━━━━━━━━╇━━━━━━━━━━━━━━━━━━━━━━━━╇━━━━━━━━━━━━━━━┩\n",
              "│ dense_3 (\u001b[38;5;33mDense\u001b[0m)                 │ (\u001b[38;5;45mNone\u001b[0m, \u001b[38;5;34m200\u001b[0m)            │     \u001b[38;5;34m4,000,200\u001b[0m │\n",
              "├─────────────────────────────────┼────────────────────────┼───────────────┤\n",
              "│ dropout_2 (\u001b[38;5;33mDropout\u001b[0m)             │ (\u001b[38;5;45mNone\u001b[0m, \u001b[38;5;34m200\u001b[0m)            │             \u001b[38;5;34m0\u001b[0m │\n",
              "├─────────────────────────────────┼────────────────────────┼───────────────┤\n",
              "│ dense_4 (\u001b[38;5;33mDense\u001b[0m)                 │ (\u001b[38;5;45mNone\u001b[0m, \u001b[38;5;34m100\u001b[0m)            │        \u001b[38;5;34m20,100\u001b[0m │\n",
              "├─────────────────────────────────┼────────────────────────┼───────────────┤\n",
              "│ dropout_3 (\u001b[38;5;33mDropout\u001b[0m)             │ (\u001b[38;5;45mNone\u001b[0m, \u001b[38;5;34m100\u001b[0m)            │             \u001b[38;5;34m0\u001b[0m │\n",
              "├─────────────────────────────────┼────────────────────────┼───────────────┤\n",
              "│ dense_5 (\u001b[38;5;33mDense\u001b[0m)                 │ (\u001b[38;5;45mNone\u001b[0m, \u001b[38;5;34m2\u001b[0m)              │           \u001b[38;5;34m202\u001b[0m │\n",
              "└─────────────────────────────────┴────────────────────────┴───────────────┘\n"
            ]
          },
          "metadata": {},
          "output_type": "display_data"
        },
        {
          "data": {
            "text/html": [
              "<pre style=\"white-space:pre;overflow-x:auto;line-height:normal;font-family:Menlo,'DejaVu Sans Mono',consolas,'Courier New',monospace\"><span style=\"font-weight: bold\"> Total params: </span><span style=\"color: #00af00; text-decoration-color: #00af00\">4,020,502</span> (15.34 MB)\n",
              "</pre>\n"
            ],
            "text/plain": [
              "\u001b[1m Total params: \u001b[0m\u001b[38;5;34m4,020,502\u001b[0m (15.34 MB)\n"
            ]
          },
          "metadata": {},
          "output_type": "display_data"
        },
        {
          "data": {
            "text/html": [
              "<pre style=\"white-space:pre;overflow-x:auto;line-height:normal;font-family:Menlo,'DejaVu Sans Mono',consolas,'Courier New',monospace\"><span style=\"font-weight: bold\"> Trainable params: </span><span style=\"color: #00af00; text-decoration-color: #00af00\">4,020,502</span> (15.34 MB)\n",
              "</pre>\n"
            ],
            "text/plain": [
              "\u001b[1m Trainable params: \u001b[0m\u001b[38;5;34m4,020,502\u001b[0m (15.34 MB)\n"
            ]
          },
          "metadata": {},
          "output_type": "display_data"
        },
        {
          "data": {
            "text/html": [
              "<pre style=\"white-space:pre;overflow-x:auto;line-height:normal;font-family:Menlo,'DejaVu Sans Mono',consolas,'Courier New',monospace\"><span style=\"font-weight: bold\"> Non-trainable params: </span><span style=\"color: #00af00; text-decoration-color: #00af00\">0</span> (0.00 B)\n",
              "</pre>\n"
            ],
            "text/plain": [
              "\u001b[1m Non-trainable params: \u001b[0m\u001b[38;5;34m0\u001b[0m (0.00 B)\n"
            ]
          },
          "metadata": {},
          "output_type": "display_data"
        },
        {
          "name": "stdout",
          "output_type": "stream",
          "text": [
            "Epoch 1/150\n",
            "\u001b[1m18/18\u001b[0m \u001b[32m━━━━━━━━━━━━━━━━━━━━\u001b[0m\u001b[37m\u001b[0m \u001b[1m1s\u001b[0m 33ms/step - accuracy: 0.7871 - loss: 0.3139 - val_accuracy: 0.9344 - val_loss: 0.1432\n",
            "Epoch 2/150\n",
            "\u001b[1m18/18\u001b[0m \u001b[32m━━━━━━━━━━━━━━━━━━━━\u001b[0m\u001b[37m\u001b[0m \u001b[1m0s\u001b[0m 25ms/step - accuracy: 1.0000 - loss: 1.5014e-05 - val_accuracy: 0.9016 - val_loss: 0.2365\n",
            "Epoch 3/150\n",
            "\u001b[1m18/18\u001b[0m \u001b[32m━━━━━━━━━━━━━━━━━━━━\u001b[0m\u001b[37m\u001b[0m \u001b[1m0s\u001b[0m 26ms/step - accuracy: 1.0000 - loss: 1.2666e-05 - val_accuracy: 0.9016 - val_loss: 0.2266\n",
            "Epoch 4/150\n",
            "\u001b[1m18/18\u001b[0m \u001b[32m━━━━━━━━━━━━━━━━━━━━\u001b[0m\u001b[37m\u001b[0m \u001b[1m0s\u001b[0m 26ms/step - accuracy: 1.0000 - loss: 7.5232e-07 - val_accuracy: 0.9180 - val_loss: 0.1889\n",
            "Epoch 5/150\n",
            "\u001b[1m18/18\u001b[0m \u001b[32m━━━━━━━━━━━━━━━━━━━━\u001b[0m\u001b[37m\u001b[0m \u001b[1m0s\u001b[0m 26ms/step - accuracy: 1.0000 - loss: 1.1513e-06 - val_accuracy: 0.9344 - val_loss: 0.1772\n",
            "Epoch 6/150\n",
            "\u001b[1m18/18\u001b[0m \u001b[32m━━━━━━━━━━━━━━━━━━━━\u001b[0m\u001b[37m\u001b[0m \u001b[1m0s\u001b[0m 24ms/step - accuracy: 1.0000 - loss: 1.5994e-06 - val_accuracy: 0.9344 - val_loss: 0.1647\n",
            "Epoch 7/150\n",
            "\u001b[1m18/18\u001b[0m \u001b[32m━━━━━━━━━━━━━━━━━━━━\u001b[0m\u001b[37m\u001b[0m \u001b[1m0s\u001b[0m 24ms/step - accuracy: 1.0000 - loss: 2.2739e-06 - val_accuracy: 0.9344 - val_loss: 0.1485\n",
            "Epoch 8/150\n",
            "\u001b[1m18/18\u001b[0m \u001b[32m━━━━━━━━━━━━━━━━━━━━\u001b[0m\u001b[37m\u001b[0m \u001b[1m0s\u001b[0m 26ms/step - accuracy: 1.0000 - loss: 3.0102e-07 - val_accuracy: 0.9508 - val_loss: 0.1423\n",
            "Epoch 9/150\n",
            "\u001b[1m18/18\u001b[0m \u001b[32m━━━━━━━━━━━━━━━━━━━━\u001b[0m\u001b[37m\u001b[0m \u001b[1m0s\u001b[0m 24ms/step - accuracy: 1.0000 - loss: 3.5194e-07 - val_accuracy: 0.9508 - val_loss: 0.1397\n",
            "Epoch 10/150\n",
            "\u001b[1m18/18\u001b[0m \u001b[32m━━━━━━━━━━━━━━━━━━━━\u001b[0m\u001b[37m\u001b[0m \u001b[1m0s\u001b[0m 24ms/step - accuracy: 1.0000 - loss: 4.1592e-06 - val_accuracy: 0.9508 - val_loss: 0.1347\n",
            "Epoch 11/150\n",
            "\u001b[1m18/18\u001b[0m \u001b[32m━━━━━━━━━━━━━━━━━━━━\u001b[0m\u001b[37m\u001b[0m \u001b[1m0s\u001b[0m 25ms/step - accuracy: 1.0000 - loss: 6.3559e-07 - val_accuracy: 0.9508 - val_loss: 0.1257\n",
            "Epoch 12/150\n",
            "\u001b[1m18/18\u001b[0m \u001b[32m━━━━━━━━━━━━━━━━━━━━\u001b[0m\u001b[37m\u001b[0m \u001b[1m0s\u001b[0m 25ms/step - accuracy: 1.0000 - loss: 1.3213e-07 - val_accuracy: 0.9508 - val_loss: 0.1233\n",
            "Epoch 13/150\n",
            "\u001b[1m18/18\u001b[0m \u001b[32m━━━━━━━━━━━━━━━━━━━━\u001b[0m\u001b[37m\u001b[0m \u001b[1m0s\u001b[0m 24ms/step - accuracy: 1.0000 - loss: 1.9667e-06 - val_accuracy: 0.9508 - val_loss: 0.1171\n",
            "Epoch 14/150\n",
            "\u001b[1m18/18\u001b[0m \u001b[32m━━━━━━━━━━━━━━━━━━━━\u001b[0m\u001b[37m\u001b[0m \u001b[1m0s\u001b[0m 25ms/step - accuracy: 1.0000 - loss: 8.5082e-07 - val_accuracy: 0.9508 - val_loss: 0.1109\n",
            "Epoch 15/150\n",
            "\u001b[1m18/18\u001b[0m \u001b[32m━━━━━━━━━━━━━━━━━━━━\u001b[0m\u001b[37m\u001b[0m \u001b[1m0s\u001b[0m 25ms/step - accuracy: 1.0000 - loss: 8.5137e-08 - val_accuracy: 0.9508 - val_loss: 0.1075\n",
            "Epoch 16/150\n",
            "\u001b[1m18/18\u001b[0m \u001b[32m━━━━━━━━━━━━━━━━━━━━\u001b[0m\u001b[37m\u001b[0m \u001b[1m0s\u001b[0m 25ms/step - accuracy: 1.0000 - loss: 6.0743e-08 - val_accuracy: 0.9508 - val_loss: 0.1061\n",
            "Epoch 17/150\n",
            "\u001b[1m18/18\u001b[0m \u001b[32m━━━━━━━━━━━━━━━━━━━━\u001b[0m\u001b[37m\u001b[0m \u001b[1m0s\u001b[0m 25ms/step - accuracy: 1.0000 - loss: 7.0792e-08 - val_accuracy: 0.9508 - val_loss: 0.1055\n",
            "Epoch 18/150\n",
            "\u001b[1m18/18\u001b[0m \u001b[32m━━━━━━━━━━━━━━━━━━━━\u001b[0m\u001b[37m\u001b[0m \u001b[1m0s\u001b[0m 25ms/step - accuracy: 1.0000 - loss: 2.0292e-07 - val_accuracy: 0.9508 - val_loss: 0.1045\n",
            "Epoch 19/150\n",
            "\u001b[1m18/18\u001b[0m \u001b[32m━━━━━━━━━━━━━━━━━━━━\u001b[0m\u001b[37m\u001b[0m \u001b[1m0s\u001b[0m 25ms/step - accuracy: 1.0000 - loss: 1.2971e-07 - val_accuracy: 0.9508 - val_loss: 0.1034\n",
            "Epoch 20/150\n",
            "\u001b[1m18/18\u001b[0m \u001b[32m━━━━━━━━━━━━━━━━━━━━\u001b[0m\u001b[37m\u001b[0m \u001b[1m0s\u001b[0m 25ms/step - accuracy: 1.0000 - loss: 1.6595e-06 - val_accuracy: 0.9508 - val_loss: 0.1036\n",
            "Epoch 21/150\n",
            "\u001b[1m18/18\u001b[0m \u001b[32m━━━━━━━━━━━━━━━━━━━━\u001b[0m\u001b[37m\u001b[0m \u001b[1m0s\u001b[0m 25ms/step - accuracy: 1.0000 - loss: 3.6058e-07 - val_accuracy: 0.9508 - val_loss: 0.1113\n",
            "Epoch 22/150\n",
            "\u001b[1m18/18\u001b[0m \u001b[32m━━━━━━━━━━━━━━━━━━━━\u001b[0m\u001b[37m\u001b[0m \u001b[1m0s\u001b[0m 25ms/step - accuracy: 1.0000 - loss: 7.6437e-08 - val_accuracy: 0.9508 - val_loss: 0.1120\n",
            "Epoch 23/150\n",
            "\u001b[1m18/18\u001b[0m \u001b[32m━━━━━━━━━━━━━━━━━━━━\u001b[0m\u001b[37m\u001b[0m \u001b[1m0s\u001b[0m 25ms/step - accuracy: 1.0000 - loss: 1.3524e-07 - val_accuracy: 0.9508 - val_loss: 0.1112\n",
            "Epoch 24/150\n",
            "\u001b[1m18/18\u001b[0m \u001b[32m━━━━━━━━━━━━━━━━━━━━\u001b[0m\u001b[37m\u001b[0m \u001b[1m0s\u001b[0m 25ms/step - accuracy: 1.0000 - loss: 4.5222e-07 - val_accuracy: 0.9508 - val_loss: 0.1092\n",
            "Epoch 25/150\n",
            "\u001b[1m18/18\u001b[0m \u001b[32m━━━━━━━━━━━━━━━━━━━━\u001b[0m\u001b[37m\u001b[0m \u001b[1m0s\u001b[0m 25ms/step - accuracy: 1.0000 - loss: 6.6440e-08 - val_accuracy: 0.9508 - val_loss: 0.1091\n",
            "Epoch 26/150\n",
            "\u001b[1m18/18\u001b[0m \u001b[32m━━━━━━━━━━━━━━━━━━━━\u001b[0m\u001b[37m\u001b[0m \u001b[1m0s\u001b[0m 25ms/step - accuracy: 1.0000 - loss: 1.2618e-06 - val_accuracy: 0.9508 - val_loss: 0.1056\n",
            "Epoch 27/150\n",
            "\u001b[1m18/18\u001b[0m \u001b[32m━━━━━━━━━━━━━━━━━━━━\u001b[0m\u001b[37m\u001b[0m \u001b[1m0s\u001b[0m 25ms/step - accuracy: 1.0000 - loss: 2.2775e-07 - val_accuracy: 0.9508 - val_loss: 0.1063\n",
            "Epoch 28/150\n",
            "\u001b[1m18/18\u001b[0m \u001b[32m━━━━━━━━━━━━━━━━━━━━\u001b[0m\u001b[37m\u001b[0m \u001b[1m0s\u001b[0m 25ms/step - accuracy: 1.0000 - loss: 4.4483e-08 - val_accuracy: 0.9508 - val_loss: 0.1067\n",
            "Epoch 29/150\n",
            "\u001b[1m18/18\u001b[0m \u001b[32m━━━━━━━━━━━━━━━━━━━━\u001b[0m\u001b[37m\u001b[0m \u001b[1m0s\u001b[0m 26ms/step - accuracy: 1.0000 - loss: 1.8168e-06 - val_accuracy: 0.9508 - val_loss: 0.1042\n",
            "Epoch 30/150\n",
            "\u001b[1m18/18\u001b[0m \u001b[32m━━━━━━━━━━━━━━━━━━━━\u001b[0m\u001b[37m\u001b[0m \u001b[1m0s\u001b[0m 25ms/step - accuracy: 1.0000 - loss: 8.7016e-08 - val_accuracy: 0.9508 - val_loss: 0.1034\n",
            "Epoch 31/150\n",
            "\u001b[1m18/18\u001b[0m \u001b[32m━━━━━━━━━━━━━━━━━━━━\u001b[0m\u001b[37m\u001b[0m \u001b[1m0s\u001b[0m 25ms/step - accuracy: 1.0000 - loss: 8.9088e-08 - val_accuracy: 0.9508 - val_loss: 0.1016\n",
            "Epoch 32/150\n",
            "\u001b[1m18/18\u001b[0m \u001b[32m━━━━━━━━━━━━━━━━━━━━\u001b[0m\u001b[37m\u001b[0m \u001b[1m0s\u001b[0m 25ms/step - accuracy: 1.0000 - loss: 2.1058e-07 - val_accuracy: 0.9672 - val_loss: 0.0976\n",
            "Epoch 33/150\n",
            "\u001b[1m18/18\u001b[0m \u001b[32m━━━━━━━━━━━━━━━━━━━━\u001b[0m\u001b[37m\u001b[0m \u001b[1m0s\u001b[0m 25ms/step - accuracy: 1.0000 - loss: 1.9291e-07 - val_accuracy: 0.9672 - val_loss: 0.0971\n",
            "Epoch 34/150\n",
            "\u001b[1m18/18\u001b[0m \u001b[32m━━━━━━━━━━━━━━━━━━━━\u001b[0m\u001b[37m\u001b[0m \u001b[1m0s\u001b[0m 25ms/step - accuracy: 1.0000 - loss: 1.9046e-07 - val_accuracy: 0.9672 - val_loss: 0.0965\n",
            "Epoch 35/150\n",
            "\u001b[1m18/18\u001b[0m \u001b[32m━━━━━━━━━━━━━━━━━━━━\u001b[0m\u001b[37m\u001b[0m \u001b[1m0s\u001b[0m 25ms/step - accuracy: 1.0000 - loss: 7.6726e-08 - val_accuracy: 0.9672 - val_loss: 0.0959\n",
            "Epoch 36/150\n",
            "\u001b[1m18/18\u001b[0m \u001b[32m━━━━━━━━━━━━━━━━━━━━\u001b[0m\u001b[37m\u001b[0m \u001b[1m0s\u001b[0m 25ms/step - accuracy: 1.0000 - loss: 1.8050e-08 - val_accuracy: 0.9672 - val_loss: 0.0955\n",
            "Epoch 37/150\n",
            "\u001b[1m18/18\u001b[0m \u001b[32m━━━━━━━━━━━━━━━━━━━━\u001b[0m\u001b[37m\u001b[0m \u001b[1m0s\u001b[0m 25ms/step - accuracy: 1.0000 - loss: 9.0093e-09 - val_accuracy: 0.9672 - val_loss: 0.0952\n",
            "Epoch 38/150\n",
            "\u001b[1m18/18\u001b[0m \u001b[32m━━━━━━━━━━━━━━━━━━━━\u001b[0m\u001b[37m\u001b[0m \u001b[1m0s\u001b[0m 25ms/step - accuracy: 1.0000 - loss: 1.7965e-08 - val_accuracy: 0.9672 - val_loss: 0.0951\n",
            "Epoch 39/150\n",
            "\u001b[1m18/18\u001b[0m \u001b[32m━━━━━━━━━━━━━━━━━━━━\u001b[0m\u001b[37m\u001b[0m \u001b[1m0s\u001b[0m 25ms/step - accuracy: 1.0000 - loss: 2.4142e-07 - val_accuracy: 0.9672 - val_loss: 0.0937\n",
            "Epoch 40/150\n",
            "\u001b[1m18/18\u001b[0m \u001b[32m━━━━━━━━━━━━━━━━━━━━\u001b[0m\u001b[37m\u001b[0m \u001b[1m0s\u001b[0m 25ms/step - accuracy: 1.0000 - loss: 2.3692e-07 - val_accuracy: 0.9672 - val_loss: 0.0919\n",
            "Epoch 41/150\n",
            "\u001b[1m18/18\u001b[0m \u001b[32m━━━━━━━━━━━━━━━━━━━━\u001b[0m\u001b[37m\u001b[0m \u001b[1m0s\u001b[0m 25ms/step - accuracy: 1.0000 - loss: 6.2308e-08 - val_accuracy: 0.9672 - val_loss: 0.0908\n",
            "Epoch 42/150\n",
            "\u001b[1m18/18\u001b[0m \u001b[32m━━━━━━━━━━━━━━━━━━━━\u001b[0m\u001b[37m\u001b[0m \u001b[1m0s\u001b[0m 25ms/step - accuracy: 1.0000 - loss: 3.6888e-08 - val_accuracy: 0.9672 - val_loss: 0.0905\n",
            "Epoch 43/150\n",
            "\u001b[1m18/18\u001b[0m \u001b[32m━━━━━━━━━━━━━━━━━━━━\u001b[0m\u001b[37m\u001b[0m \u001b[1m0s\u001b[0m 25ms/step - accuracy: 1.0000 - loss: 9.1008e-09 - val_accuracy: 0.9672 - val_loss: 0.0904\n",
            "Epoch 44/150\n",
            "\u001b[1m18/18\u001b[0m \u001b[32m━━━━━━━━━━━━━━━━━━━━\u001b[0m\u001b[37m\u001b[0m \u001b[1m0s\u001b[0m 25ms/step - accuracy: 1.0000 - loss: 2.5686e-09 - val_accuracy: 0.9672 - val_loss: 0.0903\n",
            "Epoch 45/150\n",
            "\u001b[1m18/18\u001b[0m \u001b[32m━━━━━━━━━━━━━━━━━━━━\u001b[0m\u001b[37m\u001b[0m \u001b[1m0s\u001b[0m 25ms/step - accuracy: 1.0000 - loss: 1.6780e-08 - val_accuracy: 0.9672 - val_loss: 0.0901\n",
            "Epoch 46/150\n",
            "\u001b[1m18/18\u001b[0m \u001b[32m━━━━━━━━━━━━━━━━━━━━\u001b[0m\u001b[37m\u001b[0m \u001b[1m0s\u001b[0m 25ms/step - accuracy: 1.0000 - loss: 2.0296e-07 - val_accuracy: 0.9672 - val_loss: 0.0875\n",
            "Epoch 47/150\n",
            "\u001b[1m18/18\u001b[0m \u001b[32m━━━━━━━━━━━━━━━━━━━━\u001b[0m\u001b[37m\u001b[0m \u001b[1m0s\u001b[0m 25ms/step - accuracy: 1.0000 - loss: 2.0828e-08 - val_accuracy: 0.9672 - val_loss: 0.0866\n",
            "Epoch 48/150\n",
            "\u001b[1m18/18\u001b[0m \u001b[32m━━━━━━━━━━━━━━━━━━━━\u001b[0m\u001b[37m\u001b[0m \u001b[1m0s\u001b[0m 26ms/step - accuracy: 1.0000 - loss: 4.1788e-08 - val_accuracy: 0.9672 - val_loss: 0.0866\n",
            "Epoch 49/150\n",
            "\u001b[1m18/18\u001b[0m \u001b[32m━━━━━━━━━━━━━━━━━━━━\u001b[0m\u001b[37m\u001b[0m \u001b[1m0s\u001b[0m 25ms/step - accuracy: 1.0000 - loss: 1.5674e-07 - val_accuracy: 0.9672 - val_loss: 0.0862\n",
            "Epoch 50/150\n",
            "\u001b[1m18/18\u001b[0m \u001b[32m━━━━━━━━━━━━━━━━━━━━\u001b[0m\u001b[37m\u001b[0m \u001b[1m0s\u001b[0m 25ms/step - accuracy: 1.0000 - loss: 1.9858e-08 - val_accuracy: 0.9672 - val_loss: 0.0859\n",
            "Epoch 51/150\n",
            "\u001b[1m18/18\u001b[0m \u001b[32m━━━━━━━━━━━━━━━━━━━━\u001b[0m\u001b[37m\u001b[0m \u001b[1m0s\u001b[0m 25ms/step - accuracy: 1.0000 - loss: 5.1575e-09 - val_accuracy: 0.9672 - val_loss: 0.0858\n",
            "Epoch 52/150\n",
            "\u001b[1m18/18\u001b[0m \u001b[32m━━━━━━━━━━━━━━━━━━━━\u001b[0m\u001b[37m\u001b[0m \u001b[1m0s\u001b[0m 25ms/step - accuracy: 1.0000 - loss: 1.0752e-07 - val_accuracy: 0.9672 - val_loss: 0.0852\n",
            "Epoch 53/150\n",
            "\u001b[1m18/18\u001b[0m \u001b[32m━━━━━━━━━━━━━━━━━━━━\u001b[0m\u001b[37m\u001b[0m \u001b[1m0s\u001b[0m 25ms/step - accuracy: 1.0000 - loss: 7.7323e-08 - val_accuracy: 0.9672 - val_loss: 0.0848\n",
            "Epoch 54/150\n",
            "\u001b[1m18/18\u001b[0m \u001b[32m━━━━━━━━━━━━━━━━━━━━\u001b[0m\u001b[37m\u001b[0m \u001b[1m0s\u001b[0m 25ms/step - accuracy: 1.0000 - loss: 5.0701e-08 - val_accuracy: 0.9672 - val_loss: 0.0848\n",
            "Epoch 55/150\n",
            "\u001b[1m18/18\u001b[0m \u001b[32m━━━━━━━━━━━━━━━━━━━━\u001b[0m\u001b[37m\u001b[0m \u001b[1m0s\u001b[0m 25ms/step - accuracy: 1.0000 - loss: 9.2103e-09 - val_accuracy: 0.9672 - val_loss: 0.0846\n",
            "Epoch 56/150\n",
            "\u001b[1m18/18\u001b[0m \u001b[32m━━━━━━━━━━━━━━━━━━━━\u001b[0m\u001b[37m\u001b[0m \u001b[1m0s\u001b[0m 25ms/step - accuracy: 1.0000 - loss: 1.1034e-08 - val_accuracy: 0.9672 - val_loss: 0.0846\n",
            "Epoch 57/150\n",
            "\u001b[1m18/18\u001b[0m \u001b[32m━━━━━━━━━━━━━━━━━━━━\u001b[0m\u001b[37m\u001b[0m \u001b[1m0s\u001b[0m 26ms/step - accuracy: 1.0000 - loss: 2.5251e-08 - val_accuracy: 0.9672 - val_loss: 0.0844\n",
            "Epoch 58/150\n",
            "\u001b[1m18/18\u001b[0m \u001b[32m━━━━━━━━━━━━━━━━━━━━\u001b[0m\u001b[37m\u001b[0m \u001b[1m0s\u001b[0m 26ms/step - accuracy: 1.0000 - loss: 1.9775e-08 - val_accuracy: 0.9672 - val_loss: 0.0846\n",
            "Epoch 59/150\n",
            "\u001b[1m18/18\u001b[0m \u001b[32m━━━━━━━━━━━━━━━━━━━━\u001b[0m\u001b[37m\u001b[0m \u001b[1m0s\u001b[0m 25ms/step - accuracy: 1.0000 - loss: 1.7632e-08 - val_accuracy: 0.9672 - val_loss: 0.0848\n",
            "Epoch 60/150\n",
            "\u001b[1m18/18\u001b[0m \u001b[32m━━━━━━━━━━━━━━━━━━━━\u001b[0m\u001b[37m\u001b[0m \u001b[1m0s\u001b[0m 25ms/step - accuracy: 1.0000 - loss: 3.7851e-08 - val_accuracy: 0.9672 - val_loss: 0.0845\n",
            "Epoch 61/150\n",
            "\u001b[1m18/18\u001b[0m \u001b[32m━━━━━━━━━━━━━━━━━━━━\u001b[0m\u001b[37m\u001b[0m \u001b[1m0s\u001b[0m 25ms/step - accuracy: 1.0000 - loss: 1.0207e-07 - val_accuracy: 0.9672 - val_loss: 0.0845\n",
            "Epoch 62/150\n",
            "\u001b[1m18/18\u001b[0m \u001b[32m━━━━━━━━━━━━━━━━━━━━\u001b[0m\u001b[37m\u001b[0m \u001b[1m0s\u001b[0m 25ms/step - accuracy: 1.0000 - loss: 2.2302e-07 - val_accuracy: 0.9672 - val_loss: 0.0826\n",
            "Epoch 63/150\n",
            "\u001b[1m18/18\u001b[0m \u001b[32m━━━━━━━━━━━━━━━━━━━━\u001b[0m\u001b[37m\u001b[0m \u001b[1m0s\u001b[0m 25ms/step - accuracy: 1.0000 - loss: 3.4924e-08 - val_accuracy: 0.9672 - val_loss: 0.0816\n",
            "Epoch 64/150\n",
            "\u001b[1m18/18\u001b[0m \u001b[32m━━━━━━━━━━━━━━━━━━━━\u001b[0m\u001b[37m\u001b[0m \u001b[1m0s\u001b[0m 26ms/step - accuracy: 1.0000 - loss: 2.4850e-09 - val_accuracy: 0.9672 - val_loss: 0.0811\n",
            "Epoch 65/150\n",
            "\u001b[1m18/18\u001b[0m \u001b[32m━━━━━━━━━━━━━━━━━━━━\u001b[0m\u001b[37m\u001b[0m \u001b[1m0s\u001b[0m 25ms/step - accuracy: 1.0000 - loss: 6.5669e-09 - val_accuracy: 0.9672 - val_loss: 0.0810\n",
            "Epoch 66/150\n",
            "\u001b[1m18/18\u001b[0m \u001b[32m━━━━━━━━━━━━━━━━━━━━\u001b[0m\u001b[37m\u001b[0m \u001b[1m0s\u001b[0m 25ms/step - accuracy: 1.0000 - loss: 1.3449e-06 - val_accuracy: 0.9672 - val_loss: 0.0887\n",
            "Epoch 67/150\n",
            "\u001b[1m18/18\u001b[0m \u001b[32m━━━━━━━━━━━━━━━━━━━━\u001b[0m\u001b[37m\u001b[0m \u001b[1m0s\u001b[0m 25ms/step - accuracy: 1.0000 - loss: 3.0319e-08 - val_accuracy: 0.9672 - val_loss: 0.0897\n",
            "Epoch 68/150\n",
            "\u001b[1m18/18\u001b[0m \u001b[32m━━━━━━━━━━━━━━━━━━━━\u001b[0m\u001b[37m\u001b[0m \u001b[1m0s\u001b[0m 25ms/step - accuracy: 1.0000 - loss: 1.2634e-07 - val_accuracy: 0.9672 - val_loss: 0.0899\n",
            "Epoch 69/150\n",
            "\u001b[1m18/18\u001b[0m \u001b[32m━━━━━━━━━━━━━━━━━━━━\u001b[0m\u001b[37m\u001b[0m \u001b[1m0s\u001b[0m 25ms/step - accuracy: 1.0000 - loss: 6.7990e-08 - val_accuracy: 0.9672 - val_loss: 0.0901\n",
            "Epoch 70/150\n",
            "\u001b[1m18/18\u001b[0m \u001b[32m━━━━━━━━━━━━━━━━━━━━\u001b[0m\u001b[37m\u001b[0m \u001b[1m0s\u001b[0m 25ms/step - accuracy: 1.0000 - loss: 2.2626e-08 - val_accuracy: 0.9672 - val_loss: 0.0897\n",
            "Epoch 71/150\n",
            "\u001b[1m18/18\u001b[0m \u001b[32m━━━━━━━━━━━━━━━━━━━━\u001b[0m\u001b[37m\u001b[0m \u001b[1m0s\u001b[0m 25ms/step - accuracy: 1.0000 - loss: 7.0182e-08 - val_accuracy: 0.9672 - val_loss: 0.0891\n",
            "Epoch 72/150\n",
            "\u001b[1m18/18\u001b[0m \u001b[32m━━━━━━━━━━━━━━━━━━━━\u001b[0m\u001b[37m\u001b[0m \u001b[1m0s\u001b[0m 25ms/step - accuracy: 1.0000 - loss: 9.0083e-08 - val_accuracy: 0.9672 - val_loss: 0.0891\n",
            "Epoch 73/150\n",
            "\u001b[1m18/18\u001b[0m \u001b[32m━━━━━━━━━━━━━━━━━━━━\u001b[0m\u001b[37m\u001b[0m \u001b[1m0s\u001b[0m 25ms/step - accuracy: 1.0000 - loss: 3.7889e-07 - val_accuracy: 0.9672 - val_loss: 0.0913\n",
            "Epoch 74/150\n",
            "\u001b[1m18/18\u001b[0m \u001b[32m━━━━━━━━━━━━━━━━━━━━\u001b[0m\u001b[37m\u001b[0m \u001b[1m0s\u001b[0m 25ms/step - accuracy: 1.0000 - loss: 2.9781e-08 - val_accuracy: 0.9672 - val_loss: 0.0911\n",
            "Epoch 75/150\n",
            "\u001b[1m18/18\u001b[0m \u001b[32m━━━━━━━━━━━━━━━━━━━━\u001b[0m\u001b[37m\u001b[0m \u001b[1m0s\u001b[0m 25ms/step - accuracy: 1.0000 - loss: 2.2408e-07 - val_accuracy: 0.9672 - val_loss: 0.0897\n",
            "Epoch 76/150\n",
            "\u001b[1m18/18\u001b[0m \u001b[32m━━━━━━━━━━━━━━━━━━━━\u001b[0m\u001b[37m\u001b[0m \u001b[1m0s\u001b[0m 25ms/step - accuracy: 1.0000 - loss: 1.9719e-08 - val_accuracy: 0.9672 - val_loss: 0.0886\n",
            "Epoch 77/150\n",
            "\u001b[1m18/18\u001b[0m \u001b[32m━━━━━━━━━━━━━━━━━━━━\u001b[0m\u001b[37m\u001b[0m \u001b[1m0s\u001b[0m 25ms/step - accuracy: 1.0000 - loss: 1.1656e-08 - val_accuracy: 0.9672 - val_loss: 0.0882\n",
            "Epoch 78/150\n",
            "\u001b[1m18/18\u001b[0m \u001b[32m━━━━━━━━━━━━━━━━━━━━\u001b[0m\u001b[37m\u001b[0m \u001b[1m0s\u001b[0m 25ms/step - accuracy: 1.0000 - loss: 2.9268e-07 - val_accuracy: 0.9672 - val_loss: 0.0861\n",
            "Epoch 79/150\n",
            "\u001b[1m18/18\u001b[0m \u001b[32m━━━━━━━━━━━━━━━━━━━━\u001b[0m\u001b[37m\u001b[0m \u001b[1m0s\u001b[0m 26ms/step - accuracy: 1.0000 - loss: 1.9623e-08 - val_accuracy: 0.9672 - val_loss: 0.0810\n",
            "Epoch 80/150\n",
            "\u001b[1m18/18\u001b[0m \u001b[32m━━━━━━━━━━━━━━━━━━━━\u001b[0m\u001b[37m\u001b[0m \u001b[1m0s\u001b[0m 25ms/step - accuracy: 1.0000 - loss: 1.6050e-08 - val_accuracy: 0.9672 - val_loss: 0.0794\n",
            "Epoch 81/150\n",
            "\u001b[1m18/18\u001b[0m \u001b[32m━━━━━━━━━━━━━━━━━━━━\u001b[0m\u001b[37m\u001b[0m \u001b[1m0s\u001b[0m 25ms/step - accuracy: 1.0000 - loss: 3.3503e-08 - val_accuracy: 0.9672 - val_loss: 0.0791\n",
            "Epoch 82/150\n",
            "\u001b[1m18/18\u001b[0m \u001b[32m━━━━━━━━━━━━━━━━━━━━\u001b[0m\u001b[37m\u001b[0m \u001b[1m0s\u001b[0m 25ms/step - accuracy: 1.0000 - loss: 9.6223e-08 - val_accuracy: 0.9672 - val_loss: 0.0767\n",
            "Epoch 83/150\n",
            "\u001b[1m18/18\u001b[0m \u001b[32m━━━━━━━━━━━━━━━━━━━━\u001b[0m\u001b[37m\u001b[0m \u001b[1m0s\u001b[0m 25ms/step - accuracy: 1.0000 - loss: 3.0484e-08 - val_accuracy: 0.9672 - val_loss: 0.0641\n",
            "Epoch 84/150\n",
            "\u001b[1m18/18\u001b[0m \u001b[32m━━━━━━━━━━━━━━━━━━━━\u001b[0m\u001b[37m\u001b[0m \u001b[1m0s\u001b[0m 25ms/step - accuracy: 1.0000 - loss: 7.0252e-09 - val_accuracy: 0.9672 - val_loss: 0.0638\n",
            "Epoch 85/150\n",
            "\u001b[1m18/18\u001b[0m \u001b[32m━━━━━━━━━━━━━━━━━━━━\u001b[0m\u001b[37m\u001b[0m \u001b[1m0s\u001b[0m 25ms/step - accuracy: 1.0000 - loss: 1.1306e-08 - val_accuracy: 0.9672 - val_loss: 0.0634\n",
            "Epoch 86/150\n",
            "\u001b[1m18/18\u001b[0m \u001b[32m━━━━━━━━━━━━━━━━━━━━\u001b[0m\u001b[37m\u001b[0m \u001b[1m0s\u001b[0m 25ms/step - accuracy: 1.0000 - loss: 2.9927e-08 - val_accuracy: 0.9672 - val_loss: 0.0633\n",
            "Epoch 87/150\n",
            "\u001b[1m18/18\u001b[0m \u001b[32m━━━━━━━━━━━━━━━━━━━━\u001b[0m\u001b[37m\u001b[0m \u001b[1m0s\u001b[0m 25ms/step - accuracy: 1.0000 - loss: 3.5002e-09 - val_accuracy: 0.9672 - val_loss: 0.0633\n",
            "Epoch 88/150\n",
            "\u001b[1m18/18\u001b[0m \u001b[32m━━━━━━━━━━━━━━━━━━━━\u001b[0m\u001b[37m\u001b[0m \u001b[1m0s\u001b[0m 25ms/step - accuracy: 1.0000 - loss: 1.0166e-07 - val_accuracy: 0.9672 - val_loss: 0.0628\n",
            "Epoch 89/150\n",
            "\u001b[1m18/18\u001b[0m \u001b[32m━━━━━━━━━━━━━━━━━━━━\u001b[0m\u001b[37m\u001b[0m \u001b[1m0s\u001b[0m 25ms/step - accuracy: 1.0000 - loss: 2.0587e-08 - val_accuracy: 0.9672 - val_loss: 0.0629\n",
            "Epoch 90/150\n",
            "\u001b[1m18/18\u001b[0m \u001b[32m━━━━━━━━━━━━━━━━━━━━\u001b[0m\u001b[37m\u001b[0m \u001b[1m0s\u001b[0m 25ms/step - accuracy: 1.0000 - loss: 5.0018e-09 - val_accuracy: 0.9672 - val_loss: 0.0628\n",
            "Epoch 91/150\n",
            "\u001b[1m18/18\u001b[0m \u001b[32m━━━━━━━━━━━━━━━━━━━━\u001b[0m\u001b[37m\u001b[0m \u001b[1m0s\u001b[0m 25ms/step - accuracy: 1.0000 - loss: 1.5231e-08 - val_accuracy: 0.9672 - val_loss: 0.0627\n",
            "Epoch 92/150\n",
            "\u001b[1m18/18\u001b[0m \u001b[32m━━━━━━━━━━━━━━━━━━━━\u001b[0m\u001b[37m\u001b[0m \u001b[1m0s\u001b[0m 26ms/step - accuracy: 1.0000 - loss: 1.4783e-08 - val_accuracy: 0.9672 - val_loss: 0.0629\n",
            "Epoch 93/150\n",
            "\u001b[1m18/18\u001b[0m \u001b[32m━━━━━━━━━━━━━━━━━━━━\u001b[0m\u001b[37m\u001b[0m \u001b[1m0s\u001b[0m 25ms/step - accuracy: 1.0000 - loss: 1.1845e-09 - val_accuracy: 0.9672 - val_loss: 0.0632\n",
            "Epoch 94/150\n",
            "\u001b[1m18/18\u001b[0m \u001b[32m━━━━━━━━━━━━━━━━━━━━\u001b[0m\u001b[37m\u001b[0m \u001b[1m0s\u001b[0m 25ms/step - accuracy: 1.0000 - loss: 7.4062e-09 - val_accuracy: 0.9672 - val_loss: 0.0631\n",
            "Epoch 95/150\n",
            "\u001b[1m18/18\u001b[0m \u001b[32m━━━━━━━━━━━━━━━━━━━━\u001b[0m\u001b[37m\u001b[0m \u001b[1m0s\u001b[0m 25ms/step - accuracy: 1.0000 - loss: 1.5458e-08 - val_accuracy: 0.9672 - val_loss: 0.0629\n",
            "Epoch 96/150\n",
            "\u001b[1m18/18\u001b[0m \u001b[32m━━━━━━━━━━━━━━━━━━━━\u001b[0m\u001b[37m\u001b[0m \u001b[1m0s\u001b[0m 26ms/step - accuracy: 1.0000 - loss: 8.8415e-10 - val_accuracy: 0.9672 - val_loss: 0.0628\n",
            "Epoch 97/150\n",
            "\u001b[1m18/18\u001b[0m \u001b[32m━━━━━━━━━━━━━━━━━━━━\u001b[0m\u001b[37m\u001b[0m \u001b[1m0s\u001b[0m 25ms/step - accuracy: 1.0000 - loss: 1.0618e-07 - val_accuracy: 0.9672 - val_loss: 0.0612\n",
            "Epoch 98/150\n",
            "\u001b[1m18/18\u001b[0m \u001b[32m━━━━━━━━━━━━━━━━━━━━\u001b[0m\u001b[37m\u001b[0m \u001b[1m0s\u001b[0m 26ms/step - accuracy: 1.0000 - loss: 4.3710e-08 - val_accuracy: 0.9672 - val_loss: 0.0611\n",
            "Epoch 99/150\n",
            "\u001b[1m18/18\u001b[0m \u001b[32m━━━━━━━━━━━━━━━━━━━━\u001b[0m\u001b[37m\u001b[0m \u001b[1m0s\u001b[0m 25ms/step - accuracy: 1.0000 - loss: 2.9978e-09 - val_accuracy: 0.9672 - val_loss: 0.0611\n",
            "Epoch 100/150\n",
            "\u001b[1m18/18\u001b[0m \u001b[32m━━━━━━━━━━━━━━━━━━━━\u001b[0m\u001b[37m\u001b[0m \u001b[1m0s\u001b[0m 25ms/step - accuracy: 1.0000 - loss: 3.3350e-08 - val_accuracy: 0.9672 - val_loss: 0.0613\n",
            "Epoch 101/150\n",
            "\u001b[1m18/18\u001b[0m \u001b[32m━━━━━━━━━━━━━━━━━━━━\u001b[0m\u001b[37m\u001b[0m \u001b[1m0s\u001b[0m 25ms/step - accuracy: 1.0000 - loss: 1.0255e-08 - val_accuracy: 0.9672 - val_loss: 0.0614\n",
            "Epoch 102/150\n",
            "\u001b[1m18/18\u001b[0m \u001b[32m━━━━━━━━━━━━━━━━━━━━\u001b[0m\u001b[37m\u001b[0m \u001b[1m0s\u001b[0m 26ms/step - accuracy: 1.0000 - loss: 1.1805e-09 - val_accuracy: 0.9672 - val_loss: 0.0613\n",
            "Epoch 103/150\n",
            "\u001b[1m18/18\u001b[0m \u001b[32m━━━━━━━━━━━━━━━━━━━━\u001b[0m\u001b[37m\u001b[0m \u001b[1m0s\u001b[0m 26ms/step - accuracy: 1.0000 - loss: 9.9094e-08 - val_accuracy: 0.9672 - val_loss: 0.0617\n",
            "Epoch 104/150\n",
            "\u001b[1m18/18\u001b[0m \u001b[32m━━━━━━━━━━━━━━━━━━━━\u001b[0m\u001b[37m\u001b[0m \u001b[1m0s\u001b[0m 26ms/step - accuracy: 1.0000 - loss: 1.1029e-09 - val_accuracy: 0.9672 - val_loss: 0.0624\n",
            "Epoch 105/150\n",
            "\u001b[1m18/18\u001b[0m \u001b[32m━━━━━━━━━━━━━━━━━━━━\u001b[0m\u001b[37m\u001b[0m \u001b[1m0s\u001b[0m 25ms/step - accuracy: 1.0000 - loss: 4.5940e-09 - val_accuracy: 0.9672 - val_loss: 0.0625\n",
            "Epoch 106/150\n",
            "\u001b[1m18/18\u001b[0m \u001b[32m━━━━━━━━━━━━━━━━━━━━\u001b[0m\u001b[37m\u001b[0m \u001b[1m0s\u001b[0m 25ms/step - accuracy: 1.0000 - loss: 8.5286e-09 - val_accuracy: 0.9672 - val_loss: 0.0625\n",
            "Epoch 107/150\n",
            "\u001b[1m18/18\u001b[0m \u001b[32m━━━━━━━━━━━━━━━━━━━━\u001b[0m\u001b[37m\u001b[0m \u001b[1m0s\u001b[0m 25ms/step - accuracy: 1.0000 - loss: 2.2552e-07 - val_accuracy: 0.9672 - val_loss: 0.0716\n",
            "Epoch 108/150\n",
            "\u001b[1m18/18\u001b[0m \u001b[32m━━━━━━━━━━━━━━━━━━━━\u001b[0m\u001b[37m\u001b[0m \u001b[1m0s\u001b[0m 25ms/step - accuracy: 1.0000 - loss: 8.0652e-08 - val_accuracy: 0.9344 - val_loss: 0.1601\n",
            "Epoch 109/150\n",
            "\u001b[1m18/18\u001b[0m \u001b[32m━━━━━━━━━━━━━━━━━━━━\u001b[0m\u001b[37m\u001b[0m \u001b[1m0s\u001b[0m 24ms/step - accuracy: 1.0000 - loss: 5.9341e-09 - val_accuracy: 0.9344 - val_loss: 0.1730\n",
            "Epoch 110/150\n",
            "\u001b[1m18/18\u001b[0m \u001b[32m━━━━━━━━━━━━━━━━━━━━\u001b[0m\u001b[37m\u001b[0m \u001b[1m0s\u001b[0m 25ms/step - accuracy: 1.0000 - loss: 1.9191e-07 - val_accuracy: 0.9344 - val_loss: 0.1723\n",
            "Epoch 111/150\n",
            "\u001b[1m18/18\u001b[0m \u001b[32m━━━━━━━━━━━━━━━━━━━━\u001b[0m\u001b[37m\u001b[0m \u001b[1m0s\u001b[0m 26ms/step - accuracy: 1.0000 - loss: 3.0852e-08 - val_accuracy: 0.9344 - val_loss: 0.1704\n",
            "Epoch 112/150\n",
            "\u001b[1m18/18\u001b[0m \u001b[32m━━━━━━━━━━━━━━━━━━━━\u001b[0m\u001b[37m\u001b[0m \u001b[1m0s\u001b[0m 25ms/step - accuracy: 1.0000 - loss: 2.1053e-10 - val_accuracy: 0.9344 - val_loss: 0.1700\n",
            "Epoch 113/150\n",
            "\u001b[1m18/18\u001b[0m \u001b[32m━━━━━━━━━━━━━━━━━━━━\u001b[0m\u001b[37m\u001b[0m \u001b[1m0s\u001b[0m 25ms/step - accuracy: 1.0000 - loss: 7.7134e-08 - val_accuracy: 0.9344 - val_loss: 0.1685\n",
            "Epoch 114/150\n",
            "\u001b[1m18/18\u001b[0m \u001b[32m━━━━━━━━━━━━━━━━━━━━\u001b[0m\u001b[37m\u001b[0m \u001b[1m0s\u001b[0m 25ms/step - accuracy: 1.0000 - loss: 5.0267e-07 - val_accuracy: 0.9344 - val_loss: 0.1645\n",
            "Epoch 115/150\n",
            "\u001b[1m18/18\u001b[0m \u001b[32m━━━━━━━━━━━━━━━━━━━━\u001b[0m\u001b[37m\u001b[0m \u001b[1m0s\u001b[0m 25ms/step - accuracy: 1.0000 - loss: 1.1430e-07 - val_accuracy: 0.9344 - val_loss: 0.1618\n",
            "Epoch 116/150\n",
            "\u001b[1m18/18\u001b[0m \u001b[32m━━━━━━━━━━━━━━━━━━━━\u001b[0m\u001b[37m\u001b[0m \u001b[1m0s\u001b[0m 25ms/step - accuracy: 1.0000 - loss: 4.3309e-10 - val_accuracy: 0.9344 - val_loss: 0.1598\n",
            "Epoch 117/150\n",
            "\u001b[1m18/18\u001b[0m \u001b[32m━━━━━━━━━━━━━━━━━━━━\u001b[0m\u001b[37m\u001b[0m \u001b[1m0s\u001b[0m 25ms/step - accuracy: 1.0000 - loss: 1.0913e-07 - val_accuracy: 0.9344 - val_loss: 0.1576\n",
            "Epoch 118/150\n",
            "\u001b[1m18/18\u001b[0m \u001b[32m━━━━━━━━━━━━━━━━━━━━\u001b[0m\u001b[37m\u001b[0m \u001b[1m0s\u001b[0m 25ms/step - accuracy: 1.0000 - loss: 6.7402e-09 - val_accuracy: 0.9344 - val_loss: 0.1564\n",
            "Epoch 119/150\n",
            "\u001b[1m18/18\u001b[0m \u001b[32m━━━━━━━━━━━━━━━━━━━━\u001b[0m\u001b[37m\u001b[0m \u001b[1m0s\u001b[0m 25ms/step - accuracy: 1.0000 - loss: 3.6710e-09 - val_accuracy: 0.9344 - val_loss: 0.1561\n",
            "Epoch 120/150\n",
            "\u001b[1m18/18\u001b[0m \u001b[32m━━━━━━━━━━━━━━━━━━━━\u001b[0m\u001b[37m\u001b[0m \u001b[1m0s\u001b[0m 25ms/step - accuracy: 1.0000 - loss: 5.1381e-07 - val_accuracy: 0.9344 - val_loss: 0.1523\n",
            "Epoch 121/150\n",
            "\u001b[1m18/18\u001b[0m \u001b[32m━━━━━━━━━━━━━━━━━━━━\u001b[0m\u001b[37m\u001b[0m \u001b[1m0s\u001b[0m 25ms/step - accuracy: 1.0000 - loss: 3.7979e-09 - val_accuracy: 0.9344 - val_loss: 0.1515\n",
            "Epoch 122/150\n",
            "\u001b[1m18/18\u001b[0m \u001b[32m━━━━━━━━━━━━━━━━━━━━\u001b[0m\u001b[37m\u001b[0m \u001b[1m0s\u001b[0m 25ms/step - accuracy: 1.0000 - loss: 5.1658e-07 - val_accuracy: 0.9344 - val_loss: 0.1491\n",
            "Epoch 123/150\n",
            "\u001b[1m18/18\u001b[0m \u001b[32m━━━━━━━━━━━━━━━━━━━━\u001b[0m\u001b[37m\u001b[0m \u001b[1m0s\u001b[0m 26ms/step - accuracy: 1.0000 - loss: 5.0754e-09 - val_accuracy: 0.9344 - val_loss: 0.1487\n",
            "Epoch 124/150\n",
            "\u001b[1m18/18\u001b[0m \u001b[32m━━━━━━━━━━━━━━━━━━━━\u001b[0m\u001b[37m\u001b[0m \u001b[1m0s\u001b[0m 25ms/step - accuracy: 1.0000 - loss: 4.6618e-08 - val_accuracy: 0.9344 - val_loss: 0.1483\n",
            "Epoch 125/150\n",
            "\u001b[1m18/18\u001b[0m \u001b[32m━━━━━━━━━━━━━━━━━━━━\u001b[0m\u001b[37m\u001b[0m \u001b[1m0s\u001b[0m 25ms/step - accuracy: 1.0000 - loss: 4.7011e-09 - val_accuracy: 0.9344 - val_loss: 0.1481\n",
            "Epoch 126/150\n",
            "\u001b[1m18/18\u001b[0m \u001b[32m━━━━━━━━━━━━━━━━━━━━\u001b[0m\u001b[37m\u001b[0m \u001b[1m0s\u001b[0m 25ms/step - accuracy: 1.0000 - loss: 4.3400e-10 - val_accuracy: 0.9344 - val_loss: 0.1480\n",
            "Epoch 127/150\n",
            "\u001b[1m18/18\u001b[0m \u001b[32m━━━━━━━━━━━━━━━━━━━━\u001b[0m\u001b[37m\u001b[0m \u001b[1m0s\u001b[0m 25ms/step - accuracy: 1.0000 - loss: 4.9936e-10 - val_accuracy: 0.9344 - val_loss: 0.1480\n",
            "Epoch 128/150\n",
            "\u001b[1m18/18\u001b[0m \u001b[32m━━━━━━━━━━━━━━━━━━━━\u001b[0m\u001b[37m\u001b[0m \u001b[1m0s\u001b[0m 25ms/step - accuracy: 1.0000 - loss: 1.0407e-08 - val_accuracy: 0.9344 - val_loss: 0.1479\n",
            "Epoch 129/150\n",
            "\u001b[1m18/18\u001b[0m \u001b[32m━━━━━━━━━━━━━━━━━━━━\u001b[0m\u001b[37m\u001b[0m \u001b[1m0s\u001b[0m 25ms/step - accuracy: 1.0000 - loss: 4.8953e-08 - val_accuracy: 0.9344 - val_loss: 0.1474\n",
            "Epoch 130/150\n",
            "\u001b[1m18/18\u001b[0m \u001b[32m━━━━━━━━━━━━━━━━━━━━\u001b[0m\u001b[37m\u001b[0m \u001b[1m0s\u001b[0m 25ms/step - accuracy: 1.0000 - loss: 4.2899e-08 - val_accuracy: 0.9344 - val_loss: 0.1470\n",
            "Epoch 131/150\n",
            "\u001b[1m18/18\u001b[0m \u001b[32m━━━━━━━━━━━━━━━━━━━━\u001b[0m\u001b[37m\u001b[0m \u001b[1m0s\u001b[0m 25ms/step - accuracy: 1.0000 - loss: 4.1787e-09 - val_accuracy: 0.9344 - val_loss: 0.1465\n",
            "Epoch 132/150\n",
            "\u001b[1m18/18\u001b[0m \u001b[32m━━━━━━━━━━━━━━━━━━━━\u001b[0m\u001b[37m\u001b[0m \u001b[1m0s\u001b[0m 25ms/step - accuracy: 1.0000 - loss: 1.3251e-08 - val_accuracy: 0.9344 - val_loss: 0.1462\n",
            "Epoch 133/150\n",
            "\u001b[1m18/18\u001b[0m \u001b[32m━━━━━━━━━━━━━━━━━━━━\u001b[0m\u001b[37m\u001b[0m \u001b[1m0s\u001b[0m 25ms/step - accuracy: 1.0000 - loss: 2.3690e-09 - val_accuracy: 0.9344 - val_loss: 0.1460\n",
            "Epoch 134/150\n",
            "\u001b[1m18/18\u001b[0m \u001b[32m━━━━━━━━━━━━━━━━━━━━\u001b[0m\u001b[37m\u001b[0m \u001b[1m0s\u001b[0m 25ms/step - accuracy: 1.0000 - loss: 4.0857e-09 - val_accuracy: 0.9344 - val_loss: 0.1458\n",
            "Epoch 135/150\n",
            "\u001b[1m18/18\u001b[0m \u001b[32m━━━━━━━━━━━━━━━━━━━━\u001b[0m\u001b[37m\u001b[0m \u001b[1m0s\u001b[0m 25ms/step - accuracy: 1.0000 - loss: 4.3987e-09 - val_accuracy: 0.9344 - val_loss: 0.1457\n",
            "Epoch 136/150\n",
            "\u001b[1m18/18\u001b[0m \u001b[32m━━━━━━━━━━━━━━━━━━━━\u001b[0m\u001b[37m\u001b[0m \u001b[1m0s\u001b[0m 25ms/step - accuracy: 1.0000 - loss: 6.4055e-08 - val_accuracy: 0.9344 - val_loss: 0.1445\n",
            "Epoch 137/150\n",
            "\u001b[1m18/18\u001b[0m \u001b[32m━━━━━━━━━━━━━━━━━━━━\u001b[0m\u001b[37m\u001b[0m \u001b[1m0s\u001b[0m 25ms/step - accuracy: 1.0000 - loss: 5.1298e-09 - val_accuracy: 0.9344 - val_loss: 0.1433\n",
            "Epoch 138/150\n",
            "\u001b[1m18/18\u001b[0m \u001b[32m━━━━━━━━━━━━━━━━━━━━\u001b[0m\u001b[37m\u001b[0m \u001b[1m0s\u001b[0m 25ms/step - accuracy: 1.0000 - loss: 1.4617e-08 - val_accuracy: 0.9344 - val_loss: 0.1429\n",
            "Epoch 139/150\n",
            "\u001b[1m18/18\u001b[0m \u001b[32m━━━━━━━━━━━━━━━━━━━━\u001b[0m\u001b[37m\u001b[0m \u001b[1m0s\u001b[0m 25ms/step - accuracy: 1.0000 - loss: 4.3156e-08 - val_accuracy: 0.9344 - val_loss: 0.1422\n",
            "Epoch 140/150\n",
            "\u001b[1m18/18\u001b[0m \u001b[32m━━━━━━━━━━━━━━━━━━━━\u001b[0m\u001b[37m\u001b[0m \u001b[1m0s\u001b[0m 25ms/step - accuracy: 1.0000 - loss: 1.3328e-08 - val_accuracy: 0.9344 - val_loss: 0.1416\n",
            "Epoch 141/150\n",
            "\u001b[1m18/18\u001b[0m \u001b[32m━━━━━━━━━━━━━━━━━━━━\u001b[0m\u001b[37m\u001b[0m \u001b[1m0s\u001b[0m 25ms/step - accuracy: 1.0000 - loss: 6.9660e-08 - val_accuracy: 0.9344 - val_loss: 0.1390\n",
            "Epoch 142/150\n",
            "\u001b[1m18/18\u001b[0m \u001b[32m━━━━━━━━━━━━━━━━━━━━\u001b[0m\u001b[37m\u001b[0m \u001b[1m0s\u001b[0m 26ms/step - accuracy: 1.0000 - loss: 6.3982e-10 - val_accuracy: 0.9344 - val_loss: 0.1386\n",
            "Epoch 143/150\n",
            "\u001b[1m18/18\u001b[0m \u001b[32m━━━━━━━━━━━━━━━━━━━━\u001b[0m\u001b[37m\u001b[0m \u001b[1m0s\u001b[0m 25ms/step - accuracy: 1.0000 - loss: 4.9115e-10 - val_accuracy: 0.9344 - val_loss: 0.1385\n",
            "Epoch 144/150\n",
            "\u001b[1m18/18\u001b[0m \u001b[32m━━━━━━━━━━━━━━━━━━━━\u001b[0m\u001b[37m\u001b[0m \u001b[1m0s\u001b[0m 25ms/step - accuracy: 1.0000 - loss: 2.8585e-09 - val_accuracy: 0.9344 - val_loss: 0.1384\n",
            "Epoch 145/150\n",
            "\u001b[1m18/18\u001b[0m \u001b[32m━━━━━━━━━━━━━━━━━━━━\u001b[0m\u001b[37m\u001b[0m \u001b[1m0s\u001b[0m 25ms/step - accuracy: 1.0000 - loss: 1.5500e-08 - val_accuracy: 0.9344 - val_loss: 0.1383\n",
            "Epoch 146/150\n",
            "\u001b[1m18/18\u001b[0m \u001b[32m━━━━━━━━━━━━━━━━━━━━\u001b[0m\u001b[37m\u001b[0m \u001b[1m0s\u001b[0m 25ms/step - accuracy: 1.0000 - loss: 2.7086e-08 - val_accuracy: 0.9344 - val_loss: 0.1383\n",
            "Epoch 147/150\n",
            "\u001b[1m18/18\u001b[0m \u001b[32m━━━━━━━━━━━━━━━━━━━━\u001b[0m\u001b[37m\u001b[0m \u001b[1m0s\u001b[0m 26ms/step - accuracy: 1.0000 - loss: 1.1187e-08 - val_accuracy: 0.9344 - val_loss: 0.1381\n",
            "Epoch 148/150\n",
            "\u001b[1m18/18\u001b[0m \u001b[32m━━━━━━━━━━━━━━━━━━━━\u001b[0m\u001b[37m\u001b[0m \u001b[1m0s\u001b[0m 26ms/step - accuracy: 1.0000 - loss: 4.4364e-07 - val_accuracy: 0.9344 - val_loss: 0.1355\n",
            "Epoch 149/150\n",
            "\u001b[1m18/18\u001b[0m \u001b[32m━━━━━━━━━━━━━━━━━━━━\u001b[0m\u001b[37m\u001b[0m \u001b[1m0s\u001b[0m 25ms/step - accuracy: 1.0000 - loss: 3.7712e-09 - val_accuracy: 0.9344 - val_loss: 0.1344\n",
            "Epoch 150/150\n",
            "\u001b[1m18/18\u001b[0m \u001b[32m━━━━━━━━━━━━━━━━━━━━\u001b[0m\u001b[37m\u001b[0m \u001b[1m0s\u001b[0m 25ms/step - accuracy: 1.0000 - loss: 1.2398e-09 - val_accuracy: 0.9344 - val_loss: 0.1342\n"
          ]
        }
      ],
      "source": [
        "model = Sequential(\n",
        "    [\n",
        "        Input((VOCAB_SIZE,)),\n",
        "        # BatchNormalization(),\n",
        "        Dense(200, activation=\"relu\"),\n",
        "        Dropout(0.4),\n",
        "        Dense(100),\n",
        "        Dropout(0.4),\n",
        "        # BatchNormalization(),\n",
        "        Dense(2, activation=\"softmax\"),\n",
        "    ]\n",
        ")\n",
        "\n",
        "model.compile(\n",
        "    optimizer=Adam(learning_rate=0.001),\n",
        "    loss=\"categorical_crossentropy\",\n",
        "    metrics=[\"accuracy\"],\n",
        ")\n",
        "\n",
        "model.summary()\n",
        "\n",
        "# Автоматическое использование GPU\n",
        "with tf.device('/GPU:0'):\n",
        "    history = model.fit(\n",
        "        x_train,\n",
        "        y_train,\n",
        "        epochs=150,\n",
        "        batch_size=16,\n",
        "        validation_data=(x_test, y_test),\n",
        "        verbose=1,\n",
        "    )"
      ]
    },
    {
      "cell_type": "code",
      "execution_count": 16,
      "metadata": {
        "colab": {
          "base_uri": "https://localhost:8080/",
          "height": 1000
        },
        "id": "um_NZc9pzAXc",
        "outputId": "6835b8cd-5af5-4274-bbf4-c96c2b88edf1"
      },
      "outputs": [
        {
          "data": {
            "image/png": "[encoded data removed]",
            "text/plain": [
              "<Figure size 2000x500 with 2 Axes>"
            ]
          },
          "metadata": {},
          "output_type": "display_data"
        }
      ],
      "source": [
        "fig, (ax1, ax2) = plt.subplots(1, 2, figsize=(20, 5))\n",
        "fig.suptitle(\"График процесса обучения модели\")\n",
        "ax1.plot(\n",
        "    history.history[\"accuracy\"], label=\"Доля верных ответов на обучающем наборе\"\n",
        ")\n",
        "ax1.plot(\n",
        "    history.history[\"val_accuracy\"],\n",
        "    label=\"Доля верных ответов на проверочном наборе\",\n",
        ")\n",
        "ax1.xaxis.get_major_locator().set_params(integer=True)\n",
        "ax1.set_xlabel(\"Эпоха обучения\")\n",
        "ax1.set_ylabel(\"Доля верных ответов\")\n",
        "ax1.legend()\n",
        "\n",
        "ax2.plot(history.history[\"loss\"], label=\"Ошибка на обучающем наборе\")\n",
        "ax2.plot(history.history[\"val_loss\"], label=\"Ошибка на проверочном наборе\")\n",
        "ax2.xaxis.get_major_locator().set_params(integer=True)\n",
        "ax2.set_xlabel(\"Эпоха обучения\")\n",
        "ax2.set_ylabel(\"Ошибка\")\n",
        "ax2.legend()\n",
        "plt.show()"
      ]
    },
    {
      "cell_type": "markdown",
      "metadata": {},
      "source": [
        "Выводим итоговую точность модели на тестовых данных."
      ]
    },
    {
      "cell_type": "code",
      "execution_count": 17,
      "metadata": {
        "colab": {
          "base_uri": "https://localhost:8080/"
        },
        "id": "w2rmsOnhUA0G",
        "outputId": "b126eab2-9a71-41aa-e373-d7866ae8ce9b"
      },
      "outputs": [
        {
          "name": "stdout",
          "output_type": "stream",
          "text": [
            "Test Accuracy: 93.44%\n"
          ]
        }
      ],
      "source": [
        "loss, accuracy = model.evaluate(x_test, y_test, verbose=175)\n",
        "\n",
        "print(f'Test Accuracy: {accuracy:.2%}')"
      ]
    }
  ],
  "metadata": {
    "accelerator": "GPU",
    "colab": {
      "gpuType": "T4",
      "provenance": []
    },
    "kernelspec": {
      "display_name": "Neural_Networks",
      "language": "python",
      "name": "python3"
    },
    "language_info": {
      "codemirror_mode": {
        "name": "ipython",
        "version": 3
      },
      "file_extension": ".py",
      "mimetype": "text/x-python",
      "name": "python",
      "nbconvert_exporter": "python",
      "pygments_lexer": "ipython3",
      "version": "3.11.11"
    }
  },
  "nbformat": 4,
  "nbformat_minor": 0
}
